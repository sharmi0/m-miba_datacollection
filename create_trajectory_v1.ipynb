{
 "cells": [
  {
   "cell_type": "markdown",
   "metadata": {},
   "source": [
    "## Trajectories for m-miba"
   ]
  },
  {
   "cell_type": "code",
   "execution_count": 3,
   "metadata": {},
   "outputs": [],
   "source": [
    "\n",
    "import numpy as np\n",
    "import matplotlib.pyplot as plt\n",
    "import plotly.express as px\n",
    "import plotly.graph_objs as go\n",
    "\n",
    "\n",
    "from scipy.spatial.transform import Rotation as R\n",
    "\n",
    "from typing import Tuple, List\n",
    "\n",
    "# After installing ipympl and restarting backend\n",
    "%matplotlib widget"
   ]
  },
  {
   "cell_type": "markdown",
   "metadata": {},
   "source": [
    "## Generate Contact Points\n",
    "\n",
    "https://docs.google.com/presentation/d/1ZvxPcxnbvVUdstRq2_Qzf5mGeaqTVxV470IyfK_p_ng/edit?usp=sharing"
   ]
  },
  {
   "cell_type": "code",
   "execution_count": 17,
   "metadata": {},
   "outputs": [],
   "source": [
    "#parameters all in mm\n",
    "OFFSET_X = -3\n",
    "OFFSET_Y = 0\n",
    "OFFSET_Z = 2.5\n",
    "\n",
    "\n",
    "RANGE_X = [-0, 0]   #full range = -33, 33\n",
    "RANGE_Y = [-0, 0]   #full range = -6, 6\n",
    "RANGE_Z = [0,1]\n",
    "\n",
    "\n",
    "NUM_SAMPLES_X = 1   \n",
    "NUM_SAMPLES_Y = 1\n",
    "NUM_SAMPLES_Z = 1\n",
    "X_PLOTTING_RANGE = [-17/4.0,17/4.0]\n",
    "Y_PLOTTING_RANGE = [-71/4.0,71/4.0]\n",
    "Z_PLOTTING_RANGE = [-4,1]\n",
    "\n",
    "\n",
    "dx = 1 # distance in mm between points along each ray of the asterisk\n",
    "N1 = 1  # number of pts along each ray of the asterisk (not including center point)\n",
    "N2 = 1  # number of equally spaced rays of the asterisk"
   ]
  },
  {
   "cell_type": "code",
   "execution_count": 5,
   "metadata": {},
   "outputs": [],
   "source": [
    "# sample_random_points()\n"
   ]
  },
  {
   "cell_type": "code",
   "execution_count": 6,
   "metadata": {},
   "outputs": [],
   "source": [
    "\n",
    "def sample_ordered_points(ranges=[[0, 1], [0, 1], [0, 1]], \n",
    "                            num_samples=[10, 10, 10], \n",
    "                            offsets=[0, 0, 0]):\n",
    "    \"\"\"\n",
    "    Generates 3D points within the specified x, y, z ranges.\n",
    "\n",
    "    Args:\n",
    "        ranges (list): List of ranges for x, y, z axes.\n",
    "                       Format: [[x_start, x_end], [y_start, y_end], [z_start, z_end]]\n",
    "        num_samples (list): List of the number of samples for x, y, z axes.\n",
    "                            Format: [num_samples_x, num_samples_y, num_samples_z]\n",
    "        offsets (list): List of offsets to apply to each axis [x_offset, y_offset, z_offset].\n",
    "\n",
    "    Returns:\n",
    "        np.array: Array of shape (num_samples_x * num_samples_y * num_samples_z, 3)\n",
    "                  containing (x, y, z) points.\n",
    "    \"\"\"\n",
    "\n",
    "    # Unpack range and sample settings for x, y, z\n",
    "    range_x, range_y, range_z = ranges\n",
    "    num_x, num_y, num_z = num_samples\n",
    "    offset_x, offset_y, offset_z = offsets\n",
    "\n",
    "    # Generate points for each axis, including offsets\n",
    "    x_points = np.linspace(range_x[0], range_x[1], num_x) + offset_x\n",
    "    y_points = np.linspace(range_y[0], range_y[1], num_y) + offset_y\n",
    "    z_points = np.linspace(range_z[0], range_z[1], num_z) + offset_z\n",
    "\n",
    "    # Create an empty list to store the points with the flipping applied\n",
    "    flipped_points = []\n",
    "\n",
    "    # Iterate over each y index to flip x samples\n",
    "    for i, y in enumerate(y_points):\n",
    "        # Flip x_points for every other y index\n",
    "        if i % 2 == 0:\n",
    "            current_x_points = x_points\n",
    "        else:\n",
    "            current_x_points = x_points[::-1]  # Reverse the order\n",
    "\n",
    "        # Create the grid for the current y index\n",
    "        x_grid, z_grid = np.meshgrid(current_x_points, z_points, indexing='ij')\n",
    "        \n",
    "        # Flatten the grid and combine with the current y value\n",
    "        current_points = np.column_stack((x_grid.ravel(), np.full(x_grid.size, y), z_grid.ravel()))\n",
    "        \n",
    "        # Append to the list of flipped points\n",
    "        flipped_points.append(current_points)\n",
    "\n",
    "    # Concatenate all flipped points into a single array\n",
    "    p_sensor_contactpt = np.vstack(flipped_points)\n",
    "\n",
    "    ## Map for m-miba mount (z pointing down) - corrects the orientation \n",
    "    # z -> -z\n",
    "    T_zMount_sensor = np.array([[1, 0, 0], [0, 1, 0], [0, 0, -1]])\n",
    "    p_zMount_contactpt = (T_zMount_sensor @ p_sensor_contactpt.T).T\n",
    "    \n",
    "    return p_zMount_contactpt\n",
    "\n"
   ]
  },
  {
   "cell_type": "code",
   "execution_count": 7,
   "metadata": {},
   "outputs": [],
   "source": [
    "def plot_points(points, plotting_ranges):\n",
    "    \"\"\"\n",
    "    Plots the contact points in 2D (x, y) and 3D (x, y, z) with specified axis ranges.\n",
    "    \n",
    "    Args:\n",
    "        points (np.array): Array of shape (N, 3) with (x, y, z) points.\n",
    "        plotting_ranges (list): [x_range, y_range, z_range]\n",
    "    \"\"\"\n",
    "\n",
    "    x_plotting_range, y_plotting_range, z_plotting_range = plotting_ranges\n",
    "    \n",
    "    # 2D plot (x, y)\n",
    "    # x -> -x for viewing purposes\n",
    "    fig_2d = px.scatter(x=-points[:, 0], y=points[:, 1], title='2D Plot of (x, y) Points')\n",
    "    fig_2d.update_xaxes(title='x', range=x_plotting_range, scaleanchor=\"y\", scaleratio=1)\n",
    "    fig_2d.update_yaxes(title='y', range=y_plotting_range, scaleanchor=\"x\", scaleratio=1)\n",
    "    fig_2d.show()\n",
    "\n",
    "\n",
    "    \n",
    "    # 3D plot (x, y, z)\n",
    "    aspect_ratio = dict(x=1, y=1, z=1)\n",
    "\n",
    "    fig_3d = go.Figure(data=[go.Scatter3d(\n",
    "        x=points[:, 0],\n",
    "        y=points[:, 1],\n",
    "        z=points[:, 2],\n",
    "        mode='markers',\n",
    "        marker=dict(size=3, color=points[:, 2], colorscale='Viridis', opacity=0.8)\n",
    "    )])\n",
    "    fig_3d.update_layout(scene=dict(\n",
    "        xaxis=dict(title='x', range=x_plotting_range),\n",
    "        yaxis=dict(title='y', range=y_plotting_range),\n",
    "        zaxis=dict(title='z', range=z_plotting_range),\n",
    "        aspectmode=\"manual\", aspectratio=aspect_ratio),\n",
    "        title='3D Plot of (x, y, z) Points')\n",
    "    fig_3d.show()\n"
   ]
  },
  {
   "cell_type": "code",
   "execution_count": 18,
   "metadata": {},
   "outputs": [
    {
     "data": {
      "application/vnd.plotly.v1+json": {
       "config": {
        "plotlyServerURL": "https://plot.ly"
       },
       "data": [
        {
         "hovertemplate": "x=%{x}<br>y=%{y}<extra></extra>",
         "legendgroup": "",
         "marker": {
          "color": "#636efa",
          "symbol": "circle"
         },
         "mode": "markers",
         "name": "",
         "orientation": "v",
         "showlegend": false,
         "type": "scatter",
         "x": [
          3
         ],
         "xaxis": "x",
         "y": [
          0
         ],
         "yaxis": "y"
        }
       ],
       "layout": {
        "legend": {
         "tracegroupgap": 0
        },
        "template": {
         "data": {
          "bar": [
           {
            "error_x": {
             "color": "#2a3f5f"
            },
            "error_y": {
             "color": "#2a3f5f"
            },
            "marker": {
             "line": {
              "color": "#E5ECF6",
              "width": 0.5
             },
             "pattern": {
              "fillmode": "overlay",
              "size": 10,
              "solidity": 0.2
             }
            },
            "type": "bar"
           }
          ],
          "barpolar": [
           {
            "marker": {
             "line": {
              "color": "#E5ECF6",
              "width": 0.5
             },
             "pattern": {
              "fillmode": "overlay",
              "size": 10,
              "solidity": 0.2
             }
            },
            "type": "barpolar"
           }
          ],
          "carpet": [
           {
            "aaxis": {
             "endlinecolor": "#2a3f5f",
             "gridcolor": "white",
             "linecolor": "white",
             "minorgridcolor": "white",
             "startlinecolor": "#2a3f5f"
            },
            "baxis": {
             "endlinecolor": "#2a3f5f",
             "gridcolor": "white",
             "linecolor": "white",
             "minorgridcolor": "white",
             "startlinecolor": "#2a3f5f"
            },
            "type": "carpet"
           }
          ],
          "choropleth": [
           {
            "colorbar": {
             "outlinewidth": 0,
             "ticks": ""
            },
            "type": "choropleth"
           }
          ],
          "contour": [
           {
            "colorbar": {
             "outlinewidth": 0,
             "ticks": ""
            },
            "colorscale": [
             [
              0,
              "#0d0887"
             ],
             [
              0.1111111111111111,
              "#46039f"
             ],
             [
              0.2222222222222222,
              "#7201a8"
             ],
             [
              0.3333333333333333,
              "#9c179e"
             ],
             [
              0.4444444444444444,
              "#bd3786"
             ],
             [
              0.5555555555555556,
              "#d8576b"
             ],
             [
              0.6666666666666666,
              "#ed7953"
             ],
             [
              0.7777777777777778,
              "#fb9f3a"
             ],
             [
              0.8888888888888888,
              "#fdca26"
             ],
             [
              1,
              "#f0f921"
             ]
            ],
            "type": "contour"
           }
          ],
          "contourcarpet": [
           {
            "colorbar": {
             "outlinewidth": 0,
             "ticks": ""
            },
            "type": "contourcarpet"
           }
          ],
          "heatmap": [
           {
            "colorbar": {
             "outlinewidth": 0,
             "ticks": ""
            },
            "colorscale": [
             [
              0,
              "#0d0887"
             ],
             [
              0.1111111111111111,
              "#46039f"
             ],
             [
              0.2222222222222222,
              "#7201a8"
             ],
             [
              0.3333333333333333,
              "#9c179e"
             ],
             [
              0.4444444444444444,
              "#bd3786"
             ],
             [
              0.5555555555555556,
              "#d8576b"
             ],
             [
              0.6666666666666666,
              "#ed7953"
             ],
             [
              0.7777777777777778,
              "#fb9f3a"
             ],
             [
              0.8888888888888888,
              "#fdca26"
             ],
             [
              1,
              "#f0f921"
             ]
            ],
            "type": "heatmap"
           }
          ],
          "heatmapgl": [
           {
            "colorbar": {
             "outlinewidth": 0,
             "ticks": ""
            },
            "colorscale": [
             [
              0,
              "#0d0887"
             ],
             [
              0.1111111111111111,
              "#46039f"
             ],
             [
              0.2222222222222222,
              "#7201a8"
             ],
             [
              0.3333333333333333,
              "#9c179e"
             ],
             [
              0.4444444444444444,
              "#bd3786"
             ],
             [
              0.5555555555555556,
              "#d8576b"
             ],
             [
              0.6666666666666666,
              "#ed7953"
             ],
             [
              0.7777777777777778,
              "#fb9f3a"
             ],
             [
              0.8888888888888888,
              "#fdca26"
             ],
             [
              1,
              "#f0f921"
             ]
            ],
            "type": "heatmapgl"
           }
          ],
          "histogram": [
           {
            "marker": {
             "pattern": {
              "fillmode": "overlay",
              "size": 10,
              "solidity": 0.2
             }
            },
            "type": "histogram"
           }
          ],
          "histogram2d": [
           {
            "colorbar": {
             "outlinewidth": 0,
             "ticks": ""
            },
            "colorscale": [
             [
              0,
              "#0d0887"
             ],
             [
              0.1111111111111111,
              "#46039f"
             ],
             [
              0.2222222222222222,
              "#7201a8"
             ],
             [
              0.3333333333333333,
              "#9c179e"
             ],
             [
              0.4444444444444444,
              "#bd3786"
             ],
             [
              0.5555555555555556,
              "#d8576b"
             ],
             [
              0.6666666666666666,
              "#ed7953"
             ],
             [
              0.7777777777777778,
              "#fb9f3a"
             ],
             [
              0.8888888888888888,
              "#fdca26"
             ],
             [
              1,
              "#f0f921"
             ]
            ],
            "type": "histogram2d"
           }
          ],
          "histogram2dcontour": [
           {
            "colorbar": {
             "outlinewidth": 0,
             "ticks": ""
            },
            "colorscale": [
             [
              0,
              "#0d0887"
             ],
             [
              0.1111111111111111,
              "#46039f"
             ],
             [
              0.2222222222222222,
              "#7201a8"
             ],
             [
              0.3333333333333333,
              "#9c179e"
             ],
             [
              0.4444444444444444,
              "#bd3786"
             ],
             [
              0.5555555555555556,
              "#d8576b"
             ],
             [
              0.6666666666666666,
              "#ed7953"
             ],
             [
              0.7777777777777778,
              "#fb9f3a"
             ],
             [
              0.8888888888888888,
              "#fdca26"
             ],
             [
              1,
              "#f0f921"
             ]
            ],
            "type": "histogram2dcontour"
           }
          ],
          "mesh3d": [
           {
            "colorbar": {
             "outlinewidth": 0,
             "ticks": ""
            },
            "type": "mesh3d"
           }
          ],
          "parcoords": [
           {
            "line": {
             "colorbar": {
              "outlinewidth": 0,
              "ticks": ""
             }
            },
            "type": "parcoords"
           }
          ],
          "pie": [
           {
            "automargin": true,
            "type": "pie"
           }
          ],
          "scatter": [
           {
            "fillpattern": {
             "fillmode": "overlay",
             "size": 10,
             "solidity": 0.2
            },
            "type": "scatter"
           }
          ],
          "scatter3d": [
           {
            "line": {
             "colorbar": {
              "outlinewidth": 0,
              "ticks": ""
             }
            },
            "marker": {
             "colorbar": {
              "outlinewidth": 0,
              "ticks": ""
             }
            },
            "type": "scatter3d"
           }
          ],
          "scattercarpet": [
           {
            "marker": {
             "colorbar": {
              "outlinewidth": 0,
              "ticks": ""
             }
            },
            "type": "scattercarpet"
           }
          ],
          "scattergeo": [
           {
            "marker": {
             "colorbar": {
              "outlinewidth": 0,
              "ticks": ""
             }
            },
            "type": "scattergeo"
           }
          ],
          "scattergl": [
           {
            "marker": {
             "colorbar": {
              "outlinewidth": 0,
              "ticks": ""
             }
            },
            "type": "scattergl"
           }
          ],
          "scattermapbox": [
           {
            "marker": {
             "colorbar": {
              "outlinewidth": 0,
              "ticks": ""
             }
            },
            "type": "scattermapbox"
           }
          ],
          "scatterpolar": [
           {
            "marker": {
             "colorbar": {
              "outlinewidth": 0,
              "ticks": ""
             }
            },
            "type": "scatterpolar"
           }
          ],
          "scatterpolargl": [
           {
            "marker": {
             "colorbar": {
              "outlinewidth": 0,
              "ticks": ""
             }
            },
            "type": "scatterpolargl"
           }
          ],
          "scatterternary": [
           {
            "marker": {
             "colorbar": {
              "outlinewidth": 0,
              "ticks": ""
             }
            },
            "type": "scatterternary"
           }
          ],
          "surface": [
           {
            "colorbar": {
             "outlinewidth": 0,
             "ticks": ""
            },
            "colorscale": [
             [
              0,
              "#0d0887"
             ],
             [
              0.1111111111111111,
              "#46039f"
             ],
             [
              0.2222222222222222,
              "#7201a8"
             ],
             [
              0.3333333333333333,
              "#9c179e"
             ],
             [
              0.4444444444444444,
              "#bd3786"
             ],
             [
              0.5555555555555556,
              "#d8576b"
             ],
             [
              0.6666666666666666,
              "#ed7953"
             ],
             [
              0.7777777777777778,
              "#fb9f3a"
             ],
             [
              0.8888888888888888,
              "#fdca26"
             ],
             [
              1,
              "#f0f921"
             ]
            ],
            "type": "surface"
           }
          ],
          "table": [
           {
            "cells": {
             "fill": {
              "color": "#EBF0F8"
             },
             "line": {
              "color": "white"
             }
            },
            "header": {
             "fill": {
              "color": "#C8D4E3"
             },
             "line": {
              "color": "white"
             }
            },
            "type": "table"
           }
          ]
         },
         "layout": {
          "annotationdefaults": {
           "arrowcolor": "#2a3f5f",
           "arrowhead": 0,
           "arrowwidth": 1
          },
          "autotypenumbers": "strict",
          "coloraxis": {
           "colorbar": {
            "outlinewidth": 0,
            "ticks": ""
           }
          },
          "colorscale": {
           "diverging": [
            [
             0,
             "#8e0152"
            ],
            [
             0.1,
             "#c51b7d"
            ],
            [
             0.2,
             "#de77ae"
            ],
            [
             0.3,
             "#f1b6da"
            ],
            [
             0.4,
             "#fde0ef"
            ],
            [
             0.5,
             "#f7f7f7"
            ],
            [
             0.6,
             "#e6f5d0"
            ],
            [
             0.7,
             "#b8e186"
            ],
            [
             0.8,
             "#7fbc41"
            ],
            [
             0.9,
             "#4d9221"
            ],
            [
             1,
             "#276419"
            ]
           ],
           "sequential": [
            [
             0,
             "#0d0887"
            ],
            [
             0.1111111111111111,
             "#46039f"
            ],
            [
             0.2222222222222222,
             "#7201a8"
            ],
            [
             0.3333333333333333,
             "#9c179e"
            ],
            [
             0.4444444444444444,
             "#bd3786"
            ],
            [
             0.5555555555555556,
             "#d8576b"
            ],
            [
             0.6666666666666666,
             "#ed7953"
            ],
            [
             0.7777777777777778,
             "#fb9f3a"
            ],
            [
             0.8888888888888888,
             "#fdca26"
            ],
            [
             1,
             "#f0f921"
            ]
           ],
           "sequentialminus": [
            [
             0,
             "#0d0887"
            ],
            [
             0.1111111111111111,
             "#46039f"
            ],
            [
             0.2222222222222222,
             "#7201a8"
            ],
            [
             0.3333333333333333,
             "#9c179e"
            ],
            [
             0.4444444444444444,
             "#bd3786"
            ],
            [
             0.5555555555555556,
             "#d8576b"
            ],
            [
             0.6666666666666666,
             "#ed7953"
            ],
            [
             0.7777777777777778,
             "#fb9f3a"
            ],
            [
             0.8888888888888888,
             "#fdca26"
            ],
            [
             1,
             "#f0f921"
            ]
           ]
          },
          "colorway": [
           "#636efa",
           "#EF553B",
           "#00cc96",
           "#ab63fa",
           "#FFA15A",
           "#19d3f3",
           "#FF6692",
           "#B6E880",
           "#FF97FF",
           "#FECB52"
          ],
          "font": {
           "color": "#2a3f5f"
          },
          "geo": {
           "bgcolor": "white",
           "lakecolor": "white",
           "landcolor": "#E5ECF6",
           "showlakes": true,
           "showland": true,
           "subunitcolor": "white"
          },
          "hoverlabel": {
           "align": "left"
          },
          "hovermode": "closest",
          "mapbox": {
           "style": "light"
          },
          "paper_bgcolor": "white",
          "plot_bgcolor": "#E5ECF6",
          "polar": {
           "angularaxis": {
            "gridcolor": "white",
            "linecolor": "white",
            "ticks": ""
           },
           "bgcolor": "#E5ECF6",
           "radialaxis": {
            "gridcolor": "white",
            "linecolor": "white",
            "ticks": ""
           }
          },
          "scene": {
           "xaxis": {
            "backgroundcolor": "#E5ECF6",
            "gridcolor": "white",
            "gridwidth": 2,
            "linecolor": "white",
            "showbackground": true,
            "ticks": "",
            "zerolinecolor": "white"
           },
           "yaxis": {
            "backgroundcolor": "#E5ECF6",
            "gridcolor": "white",
            "gridwidth": 2,
            "linecolor": "white",
            "showbackground": true,
            "ticks": "",
            "zerolinecolor": "white"
           },
           "zaxis": {
            "backgroundcolor": "#E5ECF6",
            "gridcolor": "white",
            "gridwidth": 2,
            "linecolor": "white",
            "showbackground": true,
            "ticks": "",
            "zerolinecolor": "white"
           }
          },
          "shapedefaults": {
           "line": {
            "color": "#2a3f5f"
           }
          },
          "ternary": {
           "aaxis": {
            "gridcolor": "white",
            "linecolor": "white",
            "ticks": ""
           },
           "baxis": {
            "gridcolor": "white",
            "linecolor": "white",
            "ticks": ""
           },
           "bgcolor": "#E5ECF6",
           "caxis": {
            "gridcolor": "white",
            "linecolor": "white",
            "ticks": ""
           }
          },
          "title": {
           "x": 0.05
          },
          "xaxis": {
           "automargin": true,
           "gridcolor": "white",
           "linecolor": "white",
           "ticks": "",
           "title": {
            "standoff": 15
           },
           "zerolinecolor": "white",
           "zerolinewidth": 2
          },
          "yaxis": {
           "automargin": true,
           "gridcolor": "white",
           "linecolor": "white",
           "ticks": "",
           "title": {
            "standoff": 15
           },
           "zerolinecolor": "white",
           "zerolinewidth": 2
          }
         }
        },
        "title": {
         "text": "2D Plot of (x, y) Points"
        },
        "xaxis": {
         "anchor": "y",
         "domain": [
          0,
          1
         ],
         "range": [
          -4.25,
          4.25
         ],
         "scaleanchor": "y",
         "scaleratio": 1,
         "title": {
          "text": "x"
         }
        },
        "yaxis": {
         "anchor": "x",
         "domain": [
          0,
          1
         ],
         "range": [
          -17.75,
          17.75
         ],
         "scaleanchor": "x",
         "scaleratio": 1,
         "title": {
          "text": "y"
         }
        }
       }
      }
     },
     "metadata": {},
     "output_type": "display_data"
    },
    {
     "data": {
      "application/vnd.plotly.v1+json": {
       "config": {
        "plotlyServerURL": "https://plot.ly"
       },
       "data": [
        {
         "marker": {
          "color": [
           -2.5
          ],
          "colorscale": [
           [
            0,
            "#440154"
           ],
           [
            0.1111111111111111,
            "#482878"
           ],
           [
            0.2222222222222222,
            "#3e4989"
           ],
           [
            0.3333333333333333,
            "#31688e"
           ],
           [
            0.4444444444444444,
            "#26828e"
           ],
           [
            0.5555555555555556,
            "#1f9e89"
           ],
           [
            0.6666666666666666,
            "#35b779"
           ],
           [
            0.7777777777777778,
            "#6ece58"
           ],
           [
            0.8888888888888888,
            "#b5de2b"
           ],
           [
            1,
            "#fde725"
           ]
          ],
          "opacity": 0.8,
          "size": 3
         },
         "mode": "markers",
         "type": "scatter3d",
         "x": [
          -3
         ],
         "y": [
          0
         ],
         "z": [
          -2.5
         ]
        }
       ],
       "layout": {
        "scene": {
         "aspectmode": "manual",
         "aspectratio": {
          "x": 1,
          "y": 1,
          "z": 1
         },
         "xaxis": {
          "range": [
           -4.25,
           4.25
          ],
          "title": {
           "text": "x"
          }
         },
         "yaxis": {
          "range": [
           -17.75,
           17.75
          ],
          "title": {
           "text": "y"
          }
         },
         "zaxis": {
          "range": [
           -4,
           1
          ],
          "title": {
           "text": "z"
          }
         }
        },
        "template": {
         "data": {
          "bar": [
           {
            "error_x": {
             "color": "#2a3f5f"
            },
            "error_y": {
             "color": "#2a3f5f"
            },
            "marker": {
             "line": {
              "color": "#E5ECF6",
              "width": 0.5
             },
             "pattern": {
              "fillmode": "overlay",
              "size": 10,
              "solidity": 0.2
             }
            },
            "type": "bar"
           }
          ],
          "barpolar": [
           {
            "marker": {
             "line": {
              "color": "#E5ECF6",
              "width": 0.5
             },
             "pattern": {
              "fillmode": "overlay",
              "size": 10,
              "solidity": 0.2
             }
            },
            "type": "barpolar"
           }
          ],
          "carpet": [
           {
            "aaxis": {
             "endlinecolor": "#2a3f5f",
             "gridcolor": "white",
             "linecolor": "white",
             "minorgridcolor": "white",
             "startlinecolor": "#2a3f5f"
            },
            "baxis": {
             "endlinecolor": "#2a3f5f",
             "gridcolor": "white",
             "linecolor": "white",
             "minorgridcolor": "white",
             "startlinecolor": "#2a3f5f"
            },
            "type": "carpet"
           }
          ],
          "choropleth": [
           {
            "colorbar": {
             "outlinewidth": 0,
             "ticks": ""
            },
            "type": "choropleth"
           }
          ],
          "contour": [
           {
            "colorbar": {
             "outlinewidth": 0,
             "ticks": ""
            },
            "colorscale": [
             [
              0,
              "#0d0887"
             ],
             [
              0.1111111111111111,
              "#46039f"
             ],
             [
              0.2222222222222222,
              "#7201a8"
             ],
             [
              0.3333333333333333,
              "#9c179e"
             ],
             [
              0.4444444444444444,
              "#bd3786"
             ],
             [
              0.5555555555555556,
              "#d8576b"
             ],
             [
              0.6666666666666666,
              "#ed7953"
             ],
             [
              0.7777777777777778,
              "#fb9f3a"
             ],
             [
              0.8888888888888888,
              "#fdca26"
             ],
             [
              1,
              "#f0f921"
             ]
            ],
            "type": "contour"
           }
          ],
          "contourcarpet": [
           {
            "colorbar": {
             "outlinewidth": 0,
             "ticks": ""
            },
            "type": "contourcarpet"
           }
          ],
          "heatmap": [
           {
            "colorbar": {
             "outlinewidth": 0,
             "ticks": ""
            },
            "colorscale": [
             [
              0,
              "#0d0887"
             ],
             [
              0.1111111111111111,
              "#46039f"
             ],
             [
              0.2222222222222222,
              "#7201a8"
             ],
             [
              0.3333333333333333,
              "#9c179e"
             ],
             [
              0.4444444444444444,
              "#bd3786"
             ],
             [
              0.5555555555555556,
              "#d8576b"
             ],
             [
              0.6666666666666666,
              "#ed7953"
             ],
             [
              0.7777777777777778,
              "#fb9f3a"
             ],
             [
              0.8888888888888888,
              "#fdca26"
             ],
             [
              1,
              "#f0f921"
             ]
            ],
            "type": "heatmap"
           }
          ],
          "heatmapgl": [
           {
            "colorbar": {
             "outlinewidth": 0,
             "ticks": ""
            },
            "colorscale": [
             [
              0,
              "#0d0887"
             ],
             [
              0.1111111111111111,
              "#46039f"
             ],
             [
              0.2222222222222222,
              "#7201a8"
             ],
             [
              0.3333333333333333,
              "#9c179e"
             ],
             [
              0.4444444444444444,
              "#bd3786"
             ],
             [
              0.5555555555555556,
              "#d8576b"
             ],
             [
              0.6666666666666666,
              "#ed7953"
             ],
             [
              0.7777777777777778,
              "#fb9f3a"
             ],
             [
              0.8888888888888888,
              "#fdca26"
             ],
             [
              1,
              "#f0f921"
             ]
            ],
            "type": "heatmapgl"
           }
          ],
          "histogram": [
           {
            "marker": {
             "pattern": {
              "fillmode": "overlay",
              "size": 10,
              "solidity": 0.2
             }
            },
            "type": "histogram"
           }
          ],
          "histogram2d": [
           {
            "colorbar": {
             "outlinewidth": 0,
             "ticks": ""
            },
            "colorscale": [
             [
              0,
              "#0d0887"
             ],
             [
              0.1111111111111111,
              "#46039f"
             ],
             [
              0.2222222222222222,
              "#7201a8"
             ],
             [
              0.3333333333333333,
              "#9c179e"
             ],
             [
              0.4444444444444444,
              "#bd3786"
             ],
             [
              0.5555555555555556,
              "#d8576b"
             ],
             [
              0.6666666666666666,
              "#ed7953"
             ],
             [
              0.7777777777777778,
              "#fb9f3a"
             ],
             [
              0.8888888888888888,
              "#fdca26"
             ],
             [
              1,
              "#f0f921"
             ]
            ],
            "type": "histogram2d"
           }
          ],
          "histogram2dcontour": [
           {
            "colorbar": {
             "outlinewidth": 0,
             "ticks": ""
            },
            "colorscale": [
             [
              0,
              "#0d0887"
             ],
             [
              0.1111111111111111,
              "#46039f"
             ],
             [
              0.2222222222222222,
              "#7201a8"
             ],
             [
              0.3333333333333333,
              "#9c179e"
             ],
             [
              0.4444444444444444,
              "#bd3786"
             ],
             [
              0.5555555555555556,
              "#d8576b"
             ],
             [
              0.6666666666666666,
              "#ed7953"
             ],
             [
              0.7777777777777778,
              "#fb9f3a"
             ],
             [
              0.8888888888888888,
              "#fdca26"
             ],
             [
              1,
              "#f0f921"
             ]
            ],
            "type": "histogram2dcontour"
           }
          ],
          "mesh3d": [
           {
            "colorbar": {
             "outlinewidth": 0,
             "ticks": ""
            },
            "type": "mesh3d"
           }
          ],
          "parcoords": [
           {
            "line": {
             "colorbar": {
              "outlinewidth": 0,
              "ticks": ""
             }
            },
            "type": "parcoords"
           }
          ],
          "pie": [
           {
            "automargin": true,
            "type": "pie"
           }
          ],
          "scatter": [
           {
            "fillpattern": {
             "fillmode": "overlay",
             "size": 10,
             "solidity": 0.2
            },
            "type": "scatter"
           }
          ],
          "scatter3d": [
           {
            "line": {
             "colorbar": {
              "outlinewidth": 0,
              "ticks": ""
             }
            },
            "marker": {
             "colorbar": {
              "outlinewidth": 0,
              "ticks": ""
             }
            },
            "type": "scatter3d"
           }
          ],
          "scattercarpet": [
           {
            "marker": {
             "colorbar": {
              "outlinewidth": 0,
              "ticks": ""
             }
            },
            "type": "scattercarpet"
           }
          ],
          "scattergeo": [
           {
            "marker": {
             "colorbar": {
              "outlinewidth": 0,
              "ticks": ""
             }
            },
            "type": "scattergeo"
           }
          ],
          "scattergl": [
           {
            "marker": {
             "colorbar": {
              "outlinewidth": 0,
              "ticks": ""
             }
            },
            "type": "scattergl"
           }
          ],
          "scattermapbox": [
           {
            "marker": {
             "colorbar": {
              "outlinewidth": 0,
              "ticks": ""
             }
            },
            "type": "scattermapbox"
           }
          ],
          "scatterpolar": [
           {
            "marker": {
             "colorbar": {
              "outlinewidth": 0,
              "ticks": ""
             }
            },
            "type": "scatterpolar"
           }
          ],
          "scatterpolargl": [
           {
            "marker": {
             "colorbar": {
              "outlinewidth": 0,
              "ticks": ""
             }
            },
            "type": "scatterpolargl"
           }
          ],
          "scatterternary": [
           {
            "marker": {
             "colorbar": {
              "outlinewidth": 0,
              "ticks": ""
             }
            },
            "type": "scatterternary"
           }
          ],
          "surface": [
           {
            "colorbar": {
             "outlinewidth": 0,
             "ticks": ""
            },
            "colorscale": [
             [
              0,
              "#0d0887"
             ],
             [
              0.1111111111111111,
              "#46039f"
             ],
             [
              0.2222222222222222,
              "#7201a8"
             ],
             [
              0.3333333333333333,
              "#9c179e"
             ],
             [
              0.4444444444444444,
              "#bd3786"
             ],
             [
              0.5555555555555556,
              "#d8576b"
             ],
             [
              0.6666666666666666,
              "#ed7953"
             ],
             [
              0.7777777777777778,
              "#fb9f3a"
             ],
             [
              0.8888888888888888,
              "#fdca26"
             ],
             [
              1,
              "#f0f921"
             ]
            ],
            "type": "surface"
           }
          ],
          "table": [
           {
            "cells": {
             "fill": {
              "color": "#EBF0F8"
             },
             "line": {
              "color": "white"
             }
            },
            "header": {
             "fill": {
              "color": "#C8D4E3"
             },
             "line": {
              "color": "white"
             }
            },
            "type": "table"
           }
          ]
         },
         "layout": {
          "annotationdefaults": {
           "arrowcolor": "#2a3f5f",
           "arrowhead": 0,
           "arrowwidth": 1
          },
          "autotypenumbers": "strict",
          "coloraxis": {
           "colorbar": {
            "outlinewidth": 0,
            "ticks": ""
           }
          },
          "colorscale": {
           "diverging": [
            [
             0,
             "#8e0152"
            ],
            [
             0.1,
             "#c51b7d"
            ],
            [
             0.2,
             "#de77ae"
            ],
            [
             0.3,
             "#f1b6da"
            ],
            [
             0.4,
             "#fde0ef"
            ],
            [
             0.5,
             "#f7f7f7"
            ],
            [
             0.6,
             "#e6f5d0"
            ],
            [
             0.7,
             "#b8e186"
            ],
            [
             0.8,
             "#7fbc41"
            ],
            [
             0.9,
             "#4d9221"
            ],
            [
             1,
             "#276419"
            ]
           ],
           "sequential": [
            [
             0,
             "#0d0887"
            ],
            [
             0.1111111111111111,
             "#46039f"
            ],
            [
             0.2222222222222222,
             "#7201a8"
            ],
            [
             0.3333333333333333,
             "#9c179e"
            ],
            [
             0.4444444444444444,
             "#bd3786"
            ],
            [
             0.5555555555555556,
             "#d8576b"
            ],
            [
             0.6666666666666666,
             "#ed7953"
            ],
            [
             0.7777777777777778,
             "#fb9f3a"
            ],
            [
             0.8888888888888888,
             "#fdca26"
            ],
            [
             1,
             "#f0f921"
            ]
           ],
           "sequentialminus": [
            [
             0,
             "#0d0887"
            ],
            [
             0.1111111111111111,
             "#46039f"
            ],
            [
             0.2222222222222222,
             "#7201a8"
            ],
            [
             0.3333333333333333,
             "#9c179e"
            ],
            [
             0.4444444444444444,
             "#bd3786"
            ],
            [
             0.5555555555555556,
             "#d8576b"
            ],
            [
             0.6666666666666666,
             "#ed7953"
            ],
            [
             0.7777777777777778,
             "#fb9f3a"
            ],
            [
             0.8888888888888888,
             "#fdca26"
            ],
            [
             1,
             "#f0f921"
            ]
           ]
          },
          "colorway": [
           "#636efa",
           "#EF553B",
           "#00cc96",
           "#ab63fa",
           "#FFA15A",
           "#19d3f3",
           "#FF6692",
           "#B6E880",
           "#FF97FF",
           "#FECB52"
          ],
          "font": {
           "color": "#2a3f5f"
          },
          "geo": {
           "bgcolor": "white",
           "lakecolor": "white",
           "landcolor": "#E5ECF6",
           "showlakes": true,
           "showland": true,
           "subunitcolor": "white"
          },
          "hoverlabel": {
           "align": "left"
          },
          "hovermode": "closest",
          "mapbox": {
           "style": "light"
          },
          "paper_bgcolor": "white",
          "plot_bgcolor": "#E5ECF6",
          "polar": {
           "angularaxis": {
            "gridcolor": "white",
            "linecolor": "white",
            "ticks": ""
           },
           "bgcolor": "#E5ECF6",
           "radialaxis": {
            "gridcolor": "white",
            "linecolor": "white",
            "ticks": ""
           }
          },
          "scene": {
           "xaxis": {
            "backgroundcolor": "#E5ECF6",
            "gridcolor": "white",
            "gridwidth": 2,
            "linecolor": "white",
            "showbackground": true,
            "ticks": "",
            "zerolinecolor": "white"
           },
           "yaxis": {
            "backgroundcolor": "#E5ECF6",
            "gridcolor": "white",
            "gridwidth": 2,
            "linecolor": "white",
            "showbackground": true,
            "ticks": "",
            "zerolinecolor": "white"
           },
           "zaxis": {
            "backgroundcolor": "#E5ECF6",
            "gridcolor": "white",
            "gridwidth": 2,
            "linecolor": "white",
            "showbackground": true,
            "ticks": "",
            "zerolinecolor": "white"
           }
          },
          "shapedefaults": {
           "line": {
            "color": "#2a3f5f"
           }
          },
          "ternary": {
           "aaxis": {
            "gridcolor": "white",
            "linecolor": "white",
            "ticks": ""
           },
           "baxis": {
            "gridcolor": "white",
            "linecolor": "white",
            "ticks": ""
           },
           "bgcolor": "#E5ECF6",
           "caxis": {
            "gridcolor": "white",
            "linecolor": "white",
            "ticks": ""
           }
          },
          "title": {
           "x": 0.05
          },
          "xaxis": {
           "automargin": true,
           "gridcolor": "white",
           "linecolor": "white",
           "ticks": "",
           "title": {
            "standoff": 15
           },
           "zerolinecolor": "white",
           "zerolinewidth": 2
          },
          "yaxis": {
           "automargin": true,
           "gridcolor": "white",
           "linecolor": "white",
           "ticks": "",
           "title": {
            "standoff": 15
           },
           "zerolinecolor": "white",
           "zerolinewidth": 2
          }
         }
        },
        "title": {
         "text": "3D Plot of (x, y, z) Points"
        }
       }
      }
     },
     "metadata": {},
     "output_type": "display_data"
    }
   ],
   "source": [
    "points = sample_ordered_points(ranges = [RANGE_X, RANGE_Y, RANGE_Z], \n",
    "                          num_samples = [NUM_SAMPLES_X, NUM_SAMPLES_Y, NUM_SAMPLES_Z], \n",
    "                          offsets = [OFFSET_X, OFFSET_Y, OFFSET_Z])\n",
    "\n",
    "plot_points(points, plotting_ranges = [X_PLOTTING_RANGE, Y_PLOTTING_RANGE, Z_PLOTTING_RANGE])\n",
    "\n"
   ]
  },
  {
   "cell_type": "markdown",
   "metadata": {},
   "source": [
    "## Create A Full Trajectory\n",
    "We take the points generated and convert them to a continuous trajectory of points comprising of:\n",
    "\n",
    "1. the point to be sampled \n",
    "2. the location to retract to after sampling a point\n",
    "3. the location to start the the approach to for the the next sample point (this is the same as the point to retract to)\n",
    "\n",
    "The I_tare flag is added to the approach points to indicate when to tare the collected data. \n",
    "\n",
    "The t_dwell time indicates how long to stay at the given point.\n",
    "\n",
    "The final trajectory is a an array of N points to traverse where each row is a list of 7 values:\n",
    "\n",
    "$$(x, y, z, \\theta, \\phi, T_{dwell}, \\mathbb{I}_{contact})\n",
    "\n"
   ]
  },
  {
   "cell_type": "code",
   "execution_count": 418,
   "metadata": {},
   "outputs": [],
   "source": [
    "\n",
    "def convert_mountPoints_to_robot_coordinates(points):\n",
    "    # Number of rows (points) in p_gantry_contactPoint\n",
    "    N = points.shape[0]\n",
    "\n",
    "    # Create theta and phi columns filled with zeros\n",
    "    theta = np.zeros((N, 1))  # Column vector of zeros with shape (N, 1)\n",
    "    phi = np.zeros((N, 1))    # Column vector of zeros with shape (N, 1)\n",
    "    raw_commands = np.hstack((points, theta, phi))\n",
    "    return raw_commands\n",
    "\n",
    "\n",
    "def make_approach_points(points, approach_offset_from_center):\n",
    "    N = points.shape[0]\n",
    "    z_approach_points = approach_offset_from_center*np.ones((N,1))\n",
    "    approach_points = np.hstack((points[:,0:1],points[:,1:2], z_approach_points))\n",
    "    return approach_points\n",
    "\n",
    "def broadcast_t_dwell(coordinate, t_dwell):\n",
    "    return np.hstack((coordinate, np.ones((coordinate.shape[0], 1)) * t_dwell))\n",
    "\n",
    "def broadcast_I_tare(coordinate, I_tare):\n",
    "    return np.hstack((coordinate, np.ones((coordinate.shape[0], 1)) * I_tare))\n",
    "\n",
    "def broadcast_contact(coordinate, contact):\n",
    "    return np.hstack((coordinate, np.expand_dims(np.arange(1, coordinate.shape[0]+1, dtype = \"int\").T * contact, 1)))\n",
    "\n",
    "def convert_points_to_trajectory(points):\n",
    "\n",
    "    approach_offset_from_center = 6  # Must be greater than traversal height\n",
    "    \n",
    "    mmiba_coordinates = []\n",
    "    coordinate_length = 8 #[x, y, z, theta, phi, t_dwell, I_tare_flag, contact point]\n",
    "    \n",
    "    p_mount_approach = make_approach_points(points, approach_offset_from_center)\n",
    "\n",
    "    contact_coordinates = convert_mountPoints_to_robot_coordinates(points)\n",
    "    approach_coordinates = convert_mountPoints_to_robot_coordinates(p_mount_approach)\n",
    "    retract_coordinates = convert_mountPoints_to_robot_coordinates(p_mount_approach)\n",
    "\n",
    "    # Time to sample = 1s\n",
    "    t_dwell_contact = 60\n",
    "    t_dwell_approach_retract = 0.7\n",
    "    t_dwell_home = 60\n",
    "\n",
    "    #wait time for each point\n",
    "    contact_coordinates = broadcast_t_dwell(contact_coordinates, t_dwell=t_dwell_contact)\n",
    "    approach_coordinates = broadcast_t_dwell(approach_coordinates, t_dwell_approach_retract)\n",
    "    retract_coordinates = broadcast_t_dwell(retract_coordinates, t_dwell_approach_retract) \n",
    "\n",
    "    #flag to indicate when to tare the ATI sensor values    \n",
    "    contact_coordinates = broadcast_I_tare(contact_coordinates, 0)\n",
    "    approach_coordinates = broadcast_I_tare(approach_coordinates, 1)\n",
    "    retract_coordinates = broadcast_I_tare(retract_coordinates, 0)\n",
    "\n",
    "    #add contact point index to each contact coordinate\n",
    "    contact_coordinates = broadcast_contact(contact_coordinates,1)\n",
    "    approach_coordinates = broadcast_contact(approach_coordinates,0)\n",
    "    retract_coordinates = broadcast_contact(retract_coordinates,0)\n",
    "\n",
    "    #merge approach, contact, and retract coordinates\n",
    "    merged_coordinates = np.zeros((contact_coordinates.shape[0] * 3, coordinate_length))\n",
    "    merged_coordinates[::3] = approach_coordinates\n",
    "    merged_coordinates[1::3] = contact_coordinates\n",
    "    merged_coordinates[2::3] = retract_coordinates\n",
    "    \n",
    "\n",
    "    # Go to home at end\n",
    "    home_coordinate = [0,0,approach_offset_from_center, 0, 0, t_dwell_home, 0, 0]\n",
    "    merged_coordinates = np.vstack((merged_coordinates, home_coordinate))\n",
    "    print(\"trajectory size: \",merged_coordinates.shape)\n",
    "\n",
    "    mmiba_coordinates.append(merged_coordinates)\n",
    "    return mmiba_coordinates\n",
    "\n",
    "\n"
   ]
  },
  {
   "cell_type": "code",
   "execution_count": 419,
   "metadata": {},
   "outputs": [
    {
     "name": "stdout",
     "output_type": "stream",
     "text": [
      "trajectory size:  (4, 8)\n"
     ]
    }
   ],
   "source": [
    "points = sample_ordered_points(ranges = [RANGE_X, RANGE_Y, RANGE_Z], \n",
    "                          num_samples = [NUM_SAMPLES_X, NUM_SAMPLES_Y, NUM_SAMPLES_Z], \n",
    "                          offsets = [OFFSET_X, OFFSET_Y, OFFSET_Z])\n",
    "\n",
    "mmibaTrajectory = convert_points_to_trajectory(points) \n",
    "\n",
    "\n",
    "mmibaTrajectory = mmibaTrajectory[0]\n",
    "\n",
    "idx = 2\n",
    "description = \"single_press\"\n",
    "save_traj_path = \"trajectories/mmibaTrajectory\" + description + f\"_{idx}.npy\"\n",
    "np.save(save_traj_path, mmibaTrajectory)"
   ]
  },
  {
   "cell_type": "markdown",
   "metadata": {},
   "source": [
    "## Create a Trajectory for Shear\n",
    "1. probe target point\n",
    "2. probe shear point 1\n",
    "3. probe shear point 2 \n",
    ".\n",
    ".\n",
    ".\n",
    "\n",
    "\n"
   ]
  },
  {
   "cell_type": "code",
   "execution_count": null,
   "metadata": {},
   "outputs": [],
   "source": [
    "def generate_shear_points(dx, N1, N2):\n",
    "    ray_length = 2 * N1\n",
    "    rays = np.zeros((3, ray_length))\n",
    "\n",
    "    # Generate points along a single ray in both directions from the center\n",
    "    for i in range(N1):\n",
    "        offset = dx * (i + 1)\n",
    "        rays[:, i] = [offset, 0, 0]\n",
    "        rays[:, N1 + i] = [-offset, 0, 0]\n",
    "\n",
    "    # Initialize the pattern array with a central point and rotated rays\n",
    "    pattern_length = 1 + ray_length * N2\n",
    "    pattern = np.zeros((3, pattern_length))\n",
    "    pattern[:, 0] = [0, 0, 0]  # Center point\n",
    "\n",
    "    # Rotate rays around the z-axis to create the shear pattern\n",
    "    for j in range(N2):\n",
    "        angle = j * (360 / N2)\n",
    "        rot_mat = np.array([[np.cos(np.radians(angle)), -np.sin(np.radians(angle)), 0],\n",
    "                            [np.sin(np.radians(angle)), np.cos(np.radians(angle)), 0],\n",
    "                            [0, 0, 1]])\n",
    "        rotated_rays = rot_mat @ rays\n",
    "        pattern[:, 1 + j * ray_length : 1 + (j + 1) * ray_length] = rotated_rays\n",
    "    \n",
    "    pattern = pattern.T\n",
    "    return pattern\n",
    "\n",
    "def generate_shear_trajectory(shear_coordinates,contact_coordinates,approach_offset_from_center,t_dwell_contact,offsets):\n",
    "    ## Map for m-miba mount (z pointing down) - corrects the orientation \n",
    "    # z -> -z\n",
    "    T_zMount_sensor = np.array([[1, 0, 0], [0, 1, 0], [0, 0, -1]])\n",
    "    offsets = np.array(offsets)\n",
    "    offsets = (T_zMount_sensor @ offsets.T).T\n",
    "    \n",
    "    \n",
    "    traj_pattern = []\n",
    "    center = np.array([shear_coordinates[0,0], shear_coordinates[0,1], shear_coordinates[0,2],0, 0, 0.5,0])\n",
    "    approach_point = [0 - offsets[0], 0 - offsets[1], approach_offset_from_center - offsets[2],0,0,0.5,1]\n",
    "    retract_point =  [0 - offsets[0], 0 - offsets[1], approach_offset_from_center - offsets[2],0,0,0.5,0]\n",
    "    for point in shear_coordinates[1:,:]:\n",
    "        shear_point = [point[0],point[1],point[2],0,0,t_dwell_contact,0]\n",
    "        shear_point_traj = np.vstack((approach_point,center, shear_point, center))\n",
    "        traj_pattern.append(shear_point_traj)\n",
    "    traj_pattern.append(retract_point)\n",
    "    traj_pattern = np.vstack(traj_pattern)\n",
    "    traj_pattern = traj_pattern[1:,:]\n",
    "\n",
    "    print(\"traj_pattern: \", traj_pattern)\n",
    "\n",
    "    #trajectory of points including approach\n",
    "    traj_patterns = []\n",
    "\n",
    "    #zero out last two columns (the I tare and the tdwell) because we don't want to add those\n",
    "    contact_coordinates[:,-2:] = 0\n",
    "\n",
    "    print(\"contact_coordinates: \",contact_coordinates)\n",
    "    for center in contact_coordinates:\n",
    "        translated_traj_pattern = traj_pattern + center \n",
    "        traj_patterns.append(translated_traj_pattern) \n",
    "    # Stack all trajectory patterns vertically\n",
    "    traj_patterns = np.vstack(traj_patterns)\n",
    "    \n",
    "    return traj_patterns, traj_pattern.shape[0]\n",
    "\n",
    "    \n",
    "def convert_points_to_trajectory_shear(points,dx,N1,N2,offsets):\n",
    "\n",
    "    approach_offset_from_center = 6 # Must be greater than traversal height\n",
    "    \n",
    "    mmiba_coordinates = []\n",
    "    coordinate_length = 8 #[x, y, z, theta, phi, t_dwell, I_tare_flag, contact point]\n",
    "    \n",
    "    p_mount_approach = make_approach_points(points, approach_offset_from_center)\n",
    "\n",
    "    shear_coordinates = generate_shear_points(dx, N1, N2) #generate just the simple pattern\n",
    "    contact_coordinates = convert_mountPoints_to_robot_coordinates(points) #add the raw, pitch values\n",
    "    approach_coordinates = convert_mountPoints_to_robot_coordinates(p_mount_approach)\n",
    "    retract_coordinates = convert_mountPoints_to_robot_coordinates(p_mount_approach)\n",
    "\n",
    "    # Time to sample = 1s\n",
    "    t_dwell_contact = 1\n",
    "\n",
    "    contact_coordinates = broadcast_t_dwell(contact_coordinates, t_dwell=t_dwell_contact)\n",
    "    approach_coordinates = broadcast_t_dwell(approach_coordinates, 0.5)\n",
    "    retract_coordinates = broadcast_t_dwell(retract_coordinates, 0.5) \n",
    "    \n",
    "    contact_coordinates = broadcast_I_tare(contact_coordinates, 0)\n",
    "    approach_coordinates = broadcast_I_tare(approach_coordinates, 1)\n",
    "    retract_coordinates = broadcast_I_tare(retract_coordinates, 0)\n",
    "\n",
    "    #add contact point index to each contact coordinate\n",
    "    contact_coordinates = broadcast_contact(contact_coordinates,1)  #i * length of pattern + 1\n",
    "    approach_coordinates = broadcast_contact(approach_coordinates,0)\n",
    "    retract_coordinates = broadcast_contact(retract_coordinates,0)\n",
    "\n",
    "    shear_coordinates, shear_group_length = generate_shear_trajectory(shear_coordinates, contact_coordinates, approach_offset_from_center, t_dwell_contact,offsets)\n",
    "\n",
    "    print(\"shear_coordinates shape: \",shear_coordinates.shape)\n",
    "    \n",
    "    merged_coordinates = np.zeros((contact_coordinates.shape[0] * (3 + shear_group_length), coordinate_length))\n",
    "    merged_coordinates[::3 + shear_group_length] = approach_coordinates\n",
    "    merged_coordinates[1::3 + shear_group_length] = contact_coordinates\n",
    "    merged_coordinates[2::3 + shear_group_length] = retract_coordinates\n",
    "    \n",
    "    \n",
    "    for i in range(len(approach_coordinates)):\n",
    "        start_idx = 3 + i * (3 + shear_group_length)\n",
    "        shear_start_idx = i * shear_group_length\n",
    "        merged_coordinates[start_idx:start_idx + shear_group_length] = shear_coordinates[shear_start_idx: shear_start_idx + shear_group_length]\n",
    "\n",
    "    # Go to home at end\n",
    "    home_coordinate = [0,0,approach_offset_from_center, 0, 0, 0, 0, 0]\n",
    "    merged_coordinates = np.vstack((merged_coordinates, home_coordinate))\n",
    "    print(merged_coordinates.shape)\n",
    "\n",
    "\n",
    "\n",
    "    mmiba_coordinates.append(merged_coordinates)\n",
    "    \n",
    "    return mmiba_coordinates"
   ]
  },
  {
   "cell_type": "code",
   "execution_count": 380,
   "metadata": {},
   "outputs": [
    {
     "name": "stdout",
     "output_type": "stream",
     "text": [
      "traj_pattern:  [[ 0.   0.   0.   0.   0.   0.5  0. ]\n",
      " [ 1.   0.   0.   0.   0.   1.   0. ]\n",
      " [ 0.   0.   0.   0.   0.   0.5  0. ]\n",
      " [ 0.  27.   8.5  0.   0.   0.5  1. ]\n",
      " [ 0.   0.   0.   0.   0.   0.5  0. ]\n",
      " [-1.   0.   0.   0.   0.   1.   0. ]\n",
      " [ 0.   0.   0.   0.   0.   0.5  0. ]\n",
      " [ 0.  27.   8.5  0.   0.   0.5  0. ]]\n",
      "contact_coordinates:  [[-28.   -1.   -2.5   0.    0.    1.    0.    0. ]\n",
      " [-27.5  -1.   -2.5   0.    0.    1.    0.    0. ]\n",
      " [-27.   -1.   -2.5   0.    0.    1.    0.    0. ]\n",
      " [-26.5  -1.   -2.5   0.    0.    1.    0.    0. ]\n",
      " [-26.   -1.   -2.5   0.    0.    1.    0.    0. ]\n",
      " [-26.   -0.5  -2.5   0.    0.    1.    0.    0. ]\n",
      " [-26.5  -0.5  -2.5   0.    0.    1.    0.    0. ]\n",
      " [-27.   -0.5  -2.5   0.    0.    1.    0.    0. ]\n",
      " [-27.5  -0.5  -2.5   0.    0.    1.    0.    0. ]\n",
      " [-28.   -0.5  -2.5   0.    0.    1.    0.    0. ]\n",
      " [-28.    0.   -2.5   0.    0.    1.    0.    0. ]\n",
      " [-27.5   0.   -2.5   0.    0.    1.    0.    0. ]\n",
      " [-27.    0.   -2.5   0.    0.    1.    0.    0. ]\n",
      " [-26.5   0.   -2.5   0.    0.    1.    0.    0. ]\n",
      " [-26.    0.   -2.5   0.    0.    1.    0.    0. ]\n",
      " [-26.    0.5  -2.5   0.    0.    1.    0.    0. ]\n",
      " [-26.5   0.5  -2.5   0.    0.    1.    0.    0. ]\n",
      " [-27.    0.5  -2.5   0.    0.    1.    0.    0. ]\n",
      " [-27.5   0.5  -2.5   0.    0.    1.    0.    0. ]\n",
      " [-28.    0.5  -2.5   0.    0.    1.    0.    0. ]\n",
      " [-28.    1.   -2.5   0.    0.    1.    0.    0. ]\n",
      " [-27.5   1.   -2.5   0.    0.    1.    0.    0. ]\n",
      " [-27.    1.   -2.5   0.    0.    1.    0.    0. ]\n",
      " [-26.5   1.   -2.5   0.    0.    1.    0.    0. ]\n",
      " [-26.    1.   -2.5   0.    0.    1.    0.    0. ]]\n"
     ]
    },
    {
     "ename": "ValueError",
     "evalue": "operands could not be broadcast together with shapes (8,7) (8,) ",
     "output_type": "error",
     "traceback": [
      "\u001b[1;31m---------------------------------------------------------------------------\u001b[0m",
      "\u001b[1;31mValueError\u001b[0m                                Traceback (most recent call last)",
      "Cell \u001b[1;32mIn[380], line 5\u001b[0m\n\u001b[0;32m      1\u001b[0m points \u001b[38;5;241m=\u001b[39m sample_ordered_points(ranges \u001b[38;5;241m=\u001b[39m [RANGE_X, RANGE_Y, RANGE_Z], \n\u001b[0;32m      2\u001b[0m                           num_samples \u001b[38;5;241m=\u001b[39m [NUM_SAMPLES_X, NUM_SAMPLES_Y, NUM_SAMPLES_Z], \n\u001b[0;32m      3\u001b[0m                           offsets \u001b[38;5;241m=\u001b[39m [OFFSET_X, OFFSET_Y, OFFSET_Z])\n\u001b[1;32m----> 5\u001b[0m mmibaTrajectory_shear \u001b[38;5;241m=\u001b[39m \u001b[43mconvert_points_to_trajectory_shear\u001b[49m\u001b[43m(\u001b[49m\u001b[43mpoints\u001b[49m\u001b[43m,\u001b[49m\u001b[43mdx\u001b[49m\u001b[43m,\u001b[49m\u001b[43mN1\u001b[49m\u001b[43m,\u001b[49m\u001b[43mN2\u001b[49m\u001b[43m,\u001b[49m\u001b[43moffsets\u001b[49m\u001b[43m \u001b[49m\u001b[38;5;241;43m=\u001b[39;49m\u001b[43m \u001b[49m\u001b[43m[\u001b[49m\u001b[43mOFFSET_X\u001b[49m\u001b[43m,\u001b[49m\u001b[43m \u001b[49m\u001b[43mOFFSET_Y\u001b[49m\u001b[43m,\u001b[49m\u001b[43m \u001b[49m\u001b[43mOFFSET_Z\u001b[49m\u001b[43m]\u001b[49m\n\u001b[0;32m      6\u001b[0m \u001b[43m)\u001b[49m\n\u001b[0;32m      9\u001b[0m mmibaTrajectory_shear \u001b[38;5;241m=\u001b[39m mmibaTrajectory_shear[\u001b[38;5;241m0\u001b[39m]\n\u001b[0;32m     11\u001b[0m idx \u001b[38;5;241m=\u001b[39m \u001b[38;5;241m2\u001b[39m\n",
      "Cell \u001b[1;32mIn[379], line 98\u001b[0m, in \u001b[0;36mconvert_points_to_trajectory_shear\u001b[1;34m(points, dx, N1, N2, offsets)\u001b[0m\n\u001b[0;32m     95\u001b[0m approach_coordinates \u001b[38;5;241m=\u001b[39m broadcast_contact(approach_coordinates,\u001b[38;5;241m0\u001b[39m)\n\u001b[0;32m     96\u001b[0m retract_coordinates \u001b[38;5;241m=\u001b[39m broadcast_contact(retract_coordinates,\u001b[38;5;241m0\u001b[39m)\n\u001b[1;32m---> 98\u001b[0m shear_coordinates, shear_group_length \u001b[38;5;241m=\u001b[39m \u001b[43mgenerate_shear_trajectory\u001b[49m\u001b[43m(\u001b[49m\u001b[43mshear_coordinates\u001b[49m\u001b[43m,\u001b[49m\u001b[43m \u001b[49m\u001b[43mcontact_coordinates\u001b[49m\u001b[43m,\u001b[49m\u001b[43m \u001b[49m\u001b[43mapproach_offset_from_center\u001b[49m\u001b[43m,\u001b[49m\u001b[43m \u001b[49m\u001b[43mt_dwell_contact\u001b[49m\u001b[43m,\u001b[49m\u001b[43moffsets\u001b[49m\u001b[43m)\u001b[49m\n\u001b[0;32m    100\u001b[0m \u001b[38;5;28mprint\u001b[39m(\u001b[38;5;124m\"\u001b[39m\u001b[38;5;124mshear_coordinates shape: \u001b[39m\u001b[38;5;124m\"\u001b[39m,shear_coordinates\u001b[38;5;241m.\u001b[39mshape)\n\u001b[0;32m    102\u001b[0m merged_coordinates \u001b[38;5;241m=\u001b[39m np\u001b[38;5;241m.\u001b[39mzeros((contact_coordinates\u001b[38;5;241m.\u001b[39mshape[\u001b[38;5;241m0\u001b[39m] \u001b[38;5;241m*\u001b[39m (\u001b[38;5;241m3\u001b[39m \u001b[38;5;241m+\u001b[39m shear_group_length), coordinate_length))\n",
      "Cell \u001b[1;32mIn[379], line 60\u001b[0m, in \u001b[0;36mgenerate_shear_trajectory\u001b[1;34m(shear_coordinates, contact_coordinates, approach_offset_from_center, t_dwell_contact, offsets)\u001b[0m\n\u001b[0;32m     58\u001b[0m \u001b[38;5;28mprint\u001b[39m(\u001b[38;5;124m\"\u001b[39m\u001b[38;5;124mcontact_coordinates: \u001b[39m\u001b[38;5;124m\"\u001b[39m,contact_coordinates)\n\u001b[0;32m     59\u001b[0m \u001b[38;5;28;01mfor\u001b[39;00m center \u001b[38;5;129;01min\u001b[39;00m contact_coordinates:\n\u001b[1;32m---> 60\u001b[0m     translated_traj_pattern \u001b[38;5;241m=\u001b[39m \u001b[43mtraj_pattern\u001b[49m\u001b[43m \u001b[49m\u001b[38;5;241;43m+\u001b[39;49m\u001b[43m \u001b[49m\u001b[43mcenter\u001b[49m \n\u001b[0;32m     61\u001b[0m     traj_patterns\u001b[38;5;241m.\u001b[39mappend(translated_traj_pattern) \n\u001b[0;32m     62\u001b[0m \u001b[38;5;66;03m# Stack all trajectory patterns vertically\u001b[39;00m\n",
      "\u001b[1;31mValueError\u001b[0m: operands could not be broadcast together with shapes (8,7) (8,) "
     ]
    }
   ],
   "source": [
    "points = sample_ordered_points(ranges = [RANGE_X, RANGE_Y, RANGE_Z], \n",
    "                          num_samples = [NUM_SAMPLES_X, NUM_SAMPLES_Y, NUM_SAMPLES_Z], \n",
    "                          offsets = [OFFSET_X, OFFSET_Y, OFFSET_Z])\n",
    "\n",
    "mmibaTrajectory_shear = convert_points_to_trajectory_shear(points,dx,N1,N2,offsets = [OFFSET_X, OFFSET_Y, OFFSET_Z]\n",
    ")\n",
    "\n",
    "\n",
    "mmibaTrajectory_shear = mmibaTrajectory_shear[0]\n",
    "\n",
    "idx = 2\n",
    "description = \"shear\"\n",
    "save_traj_path_shear = \"trajectories/mmibaTrajectory\" + description + f\"_{idx}.npy\"\n",
    "np.save(save_traj_path_shear, mmibaTrajectory_shear)\n",
    "\n"
   ]
  },
  {
   "cell_type": "code",
   "execution_count": 183,
   "metadata": {},
   "outputs": [],
   "source": [
    "def generate_shear_points_plotting(points, dx, N1, N2):\n",
    "    \"\"\"\n",
    "    Generate shear points around a given center.\n",
    "\n",
    "    Parameters:\n",
    "    points (array): Initial points (unused in current function logic).\n",
    "    dx (float): Step size along each ray.\n",
    "    N1 (int): Number of points per ray (in each direction from the center).\n",
    "    N2 (int): Number of rays around the center.\n",
    "\n",
    "    Returns:\n",
    "    all_pattern (array): \n",
    "    \"\"\"\n",
    "    ray_length = 2 * N1\n",
    "    rays = np.zeros((3, ray_length))\n",
    "\n",
    "    # Generate points along a single ray in both directions from the center\n",
    "    for i in range(N1):\n",
    "        offset = dx * (i + 1)\n",
    "        rays[:, i] = [offset, 0, 0]\n",
    "        rays[:, N1 + i] = [-offset, 0, 0]\n",
    "\n",
    "    # Initialize the pattern array with a central point and rotated rays\n",
    "    pattern_length = 1 + ray_length * N2\n",
    "    pattern = np.zeros((3, pattern_length))\n",
    "    pattern[:, 0] = [0, 0, 0]  # Center point\n",
    "\n",
    "    # Rotate rays around the z-axis to create the shear pattern\n",
    "    for j in range(N2):\n",
    "        angle = j * (360 / N2)\n",
    "        rot_mat = np.array([[np.cos(np.radians(angle)), -np.sin(np.radians(angle)), 0],\n",
    "                            [np.sin(np.radians(angle)), np.cos(np.radians(angle)), 0],\n",
    "                            [0, 0, 1]])\n",
    "        rotated_rays = rot_mat @ rays\n",
    "        pattern[:, 1 + j * ray_length : 1 + (j + 1) * ray_length] = rotated_rays\n",
    "    \n",
    "    pattern = pattern.T\n",
    "    \n",
    "\n",
    "    #there is probably a better place to put this\n",
    "    #create shear portion of trajectory\n",
    "    approach_offset_from_center = 10\n",
    "    traj_pattern = []\n",
    "    center = pattern[0,:]\n",
    "    for point in pattern[1:,:]:\n",
    "        approach_point = [0,0,-approach_offset_from_center,]\n",
    "        retract_point = [0,0,-approach_offset_from_center]\n",
    "        shear_point_traj = np.vstack((approach_point,center, point, center, retract_point))\n",
    "        traj_pattern.append(shear_point_traj)\n",
    "    traj_pattern = np.vstack(traj_pattern)\n",
    "\n",
    "    #which points we are sampling just for plotting purposes\n",
    "    all_patterns = []\n",
    "    for center in points:\n",
    "        translated_pattern = pattern + center\n",
    "        all_patterns.append(translated_pattern) \n",
    "    # Stack all patterns vertically\n",
    "    all_patterns = np.vstack(all_patterns)\n",
    "\n",
    "    #trajectory of points including approach\n",
    "    traj_patterns = []\n",
    "    for center in points:\n",
    "        translated_traj_pattern = traj_pattern + center\n",
    "        traj_patterns.append(translated_traj_pattern) \n",
    "    # Stack all trajectory patterns vertically\n",
    "    traj_patterns = np.vstack(traj_patterns)\n",
    "\n",
    "\n",
    "    fig_3d = go.Figure(data=[go.Scatter3d(\n",
    "    x=pattern[:, 0],\n",
    "    y=pattern[:, 1],\n",
    "    z=pattern[:, 2],\n",
    "    mode='markers',\n",
    "    marker=dict(size=3, color=points[:, 2], colorscale='Viridis', opacity=0.8)\n",
    "    )])\n",
    "    fig_3d.show()\n",
    "\n",
    "    fig_3d_all = go.Figure(data=[go.Scatter3d(\n",
    "    x=all_patterns[:, 0],\n",
    "    y=all_patterns[:, 1],\n",
    "    z=all_patterns[:, 2],\n",
    "    mode='markers',\n",
    "    marker=dict(size=3, opacity=0.8)\n",
    "    )])\n",
    "    fig_3d_all.show() \n",
    "\n"
   ]
  },
  {
   "cell_type": "code",
   "execution_count": null,
   "metadata": {},
   "outputs": [],
   "source": [
    "points = sample_ordered_points(ranges = [RANGE_X, RANGE_Y, RANGE_Z], \n",
    "                          num_samples = [NUM_SAMPLES_X, NUM_SAMPLES_Y, NUM_SAMPLES_Z], \n",
    "                          offsets = [OFFSET_X, OFFSET_Y, OFFSET_Z])\n",
    "\n",
    "generate_shear_points_plotting(points,dx,N1,N2)"
   ]
  },
  {
   "cell_type": "markdown",
   "metadata": {},
   "source": [
    "## OLD CODE"
   ]
  },
  {
   "cell_type": "code",
   "execution_count": null,
   "metadata": {},
   "outputs": [],
   "source": [
    "#old sample ordered points code\n",
    "\n",
    "def sample_ordered_points(ranges=[[0, 1], [0, 1], [0, 1]], \n",
    "                            num_samples=[10, 10, 10], \n",
    "                            offsets=[0, 0, 0]):\n",
    "    \"\"\"\n",
    "    Generates 3D points within the specified x, y, z ranges.\n",
    "\n",
    "    Args:\n",
    "        ranges (list): List of ranges for x, y, z axes.\n",
    "                       Format: [[x_start, x_end], [y_start, y_end], [z_start, z_end]]\n",
    "        num_samples (list): List of the number of samples for x, y, z axes.\n",
    "                            Format: [num_samples_x, num_samples_y, num_samples_z]\n",
    "        offsets (list): List of offsets to apply to each axis [x_offset, y_offset, z_offset].\n",
    "\n",
    "    Returns:\n",
    "        np.array: Array of shape (num_samples_x * num_samples_y * num_samples_z, 3)\n",
    "                  containing (x, y, z) points.\n",
    "    \"\"\"\n",
    "    # # Unpack range and sample settings for x, y, z\n",
    "    # range_x, range_y, range_z = ranges\n",
    "    # num_x, num_y, num_z = num_samples\n",
    "    # offset_x, offset_y, offset_z = offsets\n",
    "\n",
    "    # # Generate points for each axis, including offsets\n",
    "    # x_points = np.linspace(range_x[0], range_x[1], num_x) + offset_x\n",
    "    # y_points = np.linspace(range_y[0], range_y[1], num_y) + offset_y\n",
    "    # z_points = np.linspace(range_z[0], range_z[1], num_z) + offset_z\n",
    "\n",
    "    # # Create meshgrid for x, y, and z and reshape to a list of (x, y, z) points\n",
    "    # x_grid, y_grid, z_grid = np.meshgrid(x_points, y_points, z_points, indexing='ij')\n",
    "    # p_sensor_contactpt = np.column_stack((x_grid.ravel(), y_grid.ravel(), z_grid.ravel()))\n",
    "\n",
    "    # # Unpack range and sample settings for x, y, z\n",
    "    range_x, range_y, range_z = ranges\n",
    "    num_x, num_y, num_z = num_samples\n",
    "    offset_x, offset_y, offset_z = offsets\n",
    "\n",
    "    # Generate points for each axis, including offsets\n",
    "    x_points = np.linspace(range_x[0], range_x[1], num_x) + offset_x\n",
    "    y_points = np.linspace(range_y[0], range_y[1], num_y) + offset_y\n",
    "    z_points = np.linspace(range_z[0], range_z[1], num_z) + offset_z\n",
    "\n",
    "    # Create an empty list to store the points with the flipping applied\n",
    "    flipped_points = []\n",
    "\n",
    "    # Iterate over each y index to flip x samples\n",
    "    for i, y in enumerate(y_points):\n",
    "        # Flip x_points for every other y index\n",
    "        if i % 2 == 0:\n",
    "            current_x_points = x_points\n",
    "        else:\n",
    "            current_x_points = x_points[::-1]  # Reverse the order\n",
    "\n",
    "        # Create the grid for the current y index\n",
    "        x_grid, z_grid = np.meshgrid(current_x_points, z_points, indexing='ij')\n",
    "        \n",
    "        # Flatten the grid and combine with the current y value\n",
    "        current_points = np.column_stack((x_grid.ravel(), np.full(x_grid.size, y), z_grid.ravel()))\n",
    "        \n",
    "        # Append to the list of flipped points\n",
    "        flipped_points.append(current_points)\n",
    "\n",
    "    # Concatenate all flipped points into a single array\n",
    "    p_sensor_contactpt = np.vstack(flipped_points)\n",
    "\n",
    "    #*********************\n",
    "    # range_x, range_y, range_z = ranges\n",
    "    # num_x, num_y, num_z = num_samples\n",
    "    # offset_x, offset_y, offset_z = offsets\n",
    "\n",
    "    # # Generate points for each axis, including offsets\n",
    "    # x_points = np.linspace(range_x[0], range_x[1], num_x) + offset_x\n",
    "    # y_points = np.linspace(range_y[0], range_y[1], num_y) + offset_y\n",
    "    # z_points = np.linspace(range_z[0], range_z[1], num_z) + offset_z\n",
    "\n",
    "    # # Create an empty list to store the points with the zigzag pattern applied\n",
    "    # zigzag_points = []\n",
    "\n",
    "    # # Iterate over each x index to flip y samples\n",
    "    # for i, x in enumerate(x_points):\n",
    "    #     # Flip y_points for every other x index\n",
    "    #     if i % 2 == 0:\n",
    "    #         current_y_points = y_points\n",
    "    #     else:\n",
    "    #         current_y_points = y_points[::-1]  # Reverse the order\n",
    "\n",
    "    #     # Create the grid for the current x index\n",
    "    #     y_grid, z_grid = np.meshgrid(current_y_points, z_points, indexing='ij')\n",
    "        \n",
    "    #     # Flatten the grid and combine with the current x value\n",
    "    #     current_points = np.column_stack((np.full(y_grid.size, x), y_grid.ravel(), z_grid.ravel()))\n",
    "        \n",
    "    #     # Append to the list of zigzag points\n",
    "    #     zigzag_points.append(current_points)\n",
    "\n",
    "    # # Concatenate all zigzag points into a single array\n",
    "    # p_sensor_contactpt = np.vstack(zigzag_points)\n",
    "    #******************************\n",
    "\n",
    "    ## Map for m-miba mount (z pointing down) - corrects the orientation \n",
    " \n",
    "    # z -> -z\n",
    "    T_zMount_sensor = np.array([[1, 0, 0], [0, 1, 0], [0, 0, -1]])\n",
    "    p_zMount_contactpt = (T_zMount_sensor @ p_sensor_contactpt.T).T\n",
    "    \n",
    "    return p_zMount_contactpt\n",
    "\n"
   ]
  }
 ],
 "metadata": {
  "kernelspec": {
   "display_name": "Python 3",
   "language": "python",
   "name": "python3"
  },
  "language_info": {
   "codemirror_mode": {
    "name": "ipython",
    "version": 3
   },
   "file_extension": ".py",
   "mimetype": "text/x-python",
   "name": "python",
   "nbconvert_exporter": "python",
   "pygments_lexer": "ipython3",
   "version": "3.10.11"
  }
 },
 "nbformat": 4,
 "nbformat_minor": 2
}
